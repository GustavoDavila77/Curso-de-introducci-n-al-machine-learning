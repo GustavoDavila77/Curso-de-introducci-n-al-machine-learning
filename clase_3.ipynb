{
  "nbformat": 4,
  "nbformat_minor": 0,
  "metadata": {
    "colab": {
      "name": "clase 3.ipynb",
      "provenance": [],
      "include_colab_link": true
    },
    "kernelspec": {
      "name": "python3",
      "display_name": "Python 3"
    }
  },
  "cells": [
    {
      "cell_type": "markdown",
      "metadata": {
        "id": "view-in-github",
        "colab_type": "text"
      },
      "source": [
        "<a href=\"https://colab.research.google.com/github/GustavoDavila77/Curso-de-introducci-n-al-machine-learning/blob/master/clase_3.ipynb\" target=\"_parent\"><img src=\"https://colab.research.google.com/assets/colab-badge.svg\" alt=\"Open In Colab\"/></a>"
      ]
    },
    {
      "cell_type": "code",
      "metadata": {
        "id": "Fq04m_a0lhTq",
        "colab_type": "code",
        "colab": {}
      },
      "source": [
        "import torch\n",
        "#para trabajar con arreglos\n",
        "import numpy as np\n",
        "#module for work with neuronal network\n",
        "#for this case we use because nn have a linear regression\n",
        "import torch.nn as nn\n",
        "#necessary optimization for calcule gradients and do backpropagation\n",
        "import torch.optim as optim\n",
        "\n",
        "#show graphics\n",
        "import matplotlib.pyplot as plt"
      ],
      "execution_count": 0,
      "outputs": []
    },
    {
      "cell_type": "code",
      "metadata": {
        "id": "NJ-NtRxzdi2-",
        "colab_type": "code",
        "outputId": "26474845-371a-41ef-ec0a-caa9b67dab07",
        "colab": {
          "base_uri": "https://localhost:8080/",
          "height": 34
        }
      },
      "source": [
        "new_tensor = torch.tensor([[1.0, 2.0],[3.0, 4.0]])\n",
        "print(torch.mean(new_tensor, dim=1),\n",
        "      torch.mean(new_tensor, dim=0),\n",
        "      torch.mean(new_tensor))"
      ],
      "execution_count": 0,
      "outputs": [
        {
          "output_type": "stream",
          "text": [
            "tensor([1.5000, 3.5000]) tensor([2., 3.]) tensor(2.5000)\n"
          ],
          "name": "stdout"
        }
      ]
    },
    {
      "cell_type": "markdown",
      "metadata": {
        "id": "hFy4w3QSnBbs",
        "colab_type": "text"
      },
      "source": [
        "Linear Regression\n",
        "\n",
        "---\n",
        "\n"
      ]
    },
    {
      "cell_type": "code",
      "metadata": {
        "id": "fSNMh-KunLTv",
        "colab_type": "code",
        "outputId": "9aab95fe-43e1-4e6f-fe17-fb37ed56357c",
        "colab": {
          "base_uri": "https://localhost:8080/",
          "height": 282
        }
      },
      "source": [
        "#se establece 2 arreglos con un relación lineal\n",
        "#el precio de una carro es directamente proporcional a las unidades vendidas\n",
        "car_prices = [5, 6, 7, 8, 9, 10]\n",
        "units_sold = [8.5, 8, 7.5, 7.0, 6.5, 6.0]\n",
        "\n",
        "plt.scatter(car_prices, units_sold)"
      ],
      "execution_count": 0,
      "outputs": [
        {
          "output_type": "execute_result",
          "data": {
            "text/plain": [
              "<matplotlib.collections.PathCollection at 0x7f2df0f96630>"
            ]
          },
          "metadata": {
            "tags": []
          },
          "execution_count": 2
        },
        {
          "output_type": "display_data",
          "data": {
            "image/png": "[encoded data removed]",
            "text/plain": [
              "<Figure size 432x288 with 1 Axes>"
            ]
          },
          "metadata": {
            "tags": []
          }
        }
      ]
    },
    {
      "cell_type": "code",
      "metadata": {
        "id": "xCoB9HsuoOA_",
        "colab_type": "code",
        "outputId": "3266383e-6a72-405d-ed39-800d0d31e037",
        "colab": {
          "base_uri": "https://localhost:8080/",
          "height": 119
        }
      },
      "source": [
        "# representation in numpy\n",
        "#reshape is for show in other form and can enter in tensor\n",
        "#reshape(filas, columnas)\n",
        "#reshape(-1, 1) -1 mean rows is inferred\n",
        "prices_array = np.array(car_prices).reshape(-1,1)\n",
        "units_sold = np.array(units_sold).reshape(-1,1)\n",
        "\n",
        "prices_array"
      ],
      "execution_count": 0,
      "outputs": [
        {
          "output_type": "execute_result",
          "data": {
            "text/plain": [
              "array([[ 5],\n",
              "       [ 6],\n",
              "       [ 7],\n",
              "       [ 8],\n",
              "       [ 9],\n",
              "       [10]])"
            ]
          },
          "metadata": {
            "tags": []
          },
          "execution_count": 3
        }
      ]
    },
    {
      "cell_type": "code",
      "metadata": {
        "id": "M8NVRnZxpfhK",
        "colab_type": "code",
        "outputId": "0e56a083-4921-46ac-956c-388c11b5cbb6",
        "colab": {
          "base_uri": "https://localhost:8080/",
          "height": 119
        }
      },
      "source": [
        "# array in numpy to tensor\n",
        "# requieres_grad_ let have gradients in mode active\n",
        "# el último _ significa que se va a modificar el array con\n",
        "#el que estamos trabajando y el tensor es el que sufre la modificación \n",
        "prices = torch.from_numpy(prices_array).float().requires_grad_(True)\n",
        "#don´t active gradients because are my target\n",
        "units = torch.from_numpy(units_sold).float()\n",
        "\n",
        "prices, prices.shape"
      ],
      "execution_count": 0,
      "outputs": [
        {
          "output_type": "execute_result",
          "data": {
            "text/plain": [
              "(tensor([[ 5.],\n",
              "         [ 6.],\n",
              "         [ 7.],\n",
              "         [ 8.],\n",
              "         [ 9.],\n",
              "         [10.]], requires_grad=True), torch.Size([6, 1]))"
            ]
          },
          "metadata": {
            "tags": []
          },
          "execution_count": 4
        }
      ]
    },
    {
      "cell_type": "code",
      "metadata": {
        "id": "_60LWY8csby7",
        "colab_type": "code",
        "outputId": "e80358f7-0996-404b-aee5-3709bee12453",
        "colab": {
          "base_uri": "https://localhost:8080/",
          "height": 299
        }
      },
      "source": [
        "#model bulding\n",
        "#(1,1) input and output dimension\n",
        "model = nn.Linear(1,1)\n",
        "\n",
        "#mean squared error\n",
        "loss_fuction = nn.MSELoss()\n",
        "\n",
        "#stochastic gradient descent\n",
        "#model.parameters() weight is get from model parameters\n",
        "# lr : learning rate - set value arbitrary \n",
        "# lr: size of steps in each iteration\n",
        "optimizer = optim.SGD(model.parameters(), lr= 0.016)\n",
        "\n",
        "losses = []\n",
        "iterations = 2000\n",
        "\n",
        "for i in range(iterations):\n",
        "  #forward pass - prediction\n",
        "  pred = model(prices)\n",
        "  #calculate loss with prediction data and real data(units)\n",
        "  loss = loss_fuction(pred, units)\n",
        "  losses.append(loss.data)\n",
        "\n",
        "  #se reinicia el calculo de gradientes\n",
        "  #pytorch acumula los gradiente y altera el resultado\n",
        "  optimizer.zero_grad()\n",
        "  #backpropagation\n",
        "  loss.backward()\n",
        "  #go step toward optimization\n",
        "  optimizer.step()\n",
        "\n",
        "#se imprime el último loss\n",
        "print(float(loss))\n",
        "#se imprime las iteraciones y las perdidas\n",
        "plt.plot(range(iterations), losses)  "
      ],
      "execution_count": 0,
      "outputs": [
        {
          "output_type": "stream",
          "text": [
            "0.011129999533295631\n"
          ],
          "name": "stdout"
        },
        {
          "output_type": "execute_result",
          "data": {
            "text/plain": [
              "[<matplotlib.lines.Line2D at 0x7f2ded299c50>]"
            ]
          },
          "metadata": {
            "tags": []
          },
          "execution_count": 5
        },
        {
          "output_type": "display_data",
          "data": {
            "image/png": "[encoded data removed]",
            "text/plain": [
              "<Figure size 432x288 with 1 Axes>"
            ]
          },
          "metadata": {
            "tags": []
          }
        }
      ]
    },
    {
      "cell_type": "code",
      "metadata": {
        "id": "p6Mjft_N9-YX",
        "colab_type": "code",
        "outputId": "76f50aeb-dc33-4752-b167-e74d01b905eb",
        "colab": {
          "base_uri": "https://localhost:8080/",
          "height": 34
        }
      },
      "source": [
        "#predicción después del entrenamiento\n",
        "x = torch.Tensor([[12.0]])\n",
        "p = model(x)\n",
        "p"
      ],
      "execution_count": 0,
      "outputs": [
        {
          "output_type": "execute_result",
          "data": {
            "text/plain": [
              "tensor([[5.2478]], grad_fn=<AddmmBackward>)"
            ]
          },
          "metadata": {
            "tags": []
          },
          "execution_count": 6
        }
      ]
    },
    {
      "cell_type": "markdown",
      "metadata": {
        "id": "GCmmQvO7qpce",
        "colab_type": "text"
      },
      "source": [
        "Regresión Logística\n",
        "\n",
        "---\n",
        "\n"
      ]
    },
    {
      "cell_type": "code",
      "metadata": {
        "id": "raI1fq61qvhl",
        "colab_type": "code",
        "outputId": "f9485ebd-ff1f-40a2-9ab6-c37a800bea08",
        "colab": {
          "base_uri": "https://localhost:8080/",
          "height": 1000
        }
      },
      "source": [
        "#pares\n",
        "n = 100\n",
        "# // división entera  / para resultado float\n",
        "h = n//2\n",
        "dimen = 2\n",
        "\n",
        "#se generan nums random para luego entrar a clasificarlos\n",
        "\n",
        "#como se va a centrar alrededor de 3.3 y -3.3 entonces \n",
        "#para que esten un poco más cercanos se multiplica por 3 (hacer prueba)\n",
        "data = np.random.randn(n, dimen)*3\n",
        "data "
      ],
      "execution_count": 0,
      "outputs": [
        {
          "output_type": "execute_result",
          "data": {
            "text/plain": [
              "array([[ 3.92184853,  2.54186426],\n",
              "       [-1.80502957, -2.34850509],\n",
              "       [-3.36069748, -3.6014479 ],\n",
              "       [ 1.3884686 ,  0.95306201],\n",
              "       [-0.76449305, -1.64425022],\n",
              "       [ 7.42673215, -1.21015668],\n",
              "       [ 0.11386825, -1.7164535 ],\n",
              "       [-3.87903177,  0.83093201],\n",
              "       [ 1.70650371, -2.24850152],\n",
              "       [ 4.88786601, -1.79913045],\n",
              "       [-9.60777997,  2.1108759 ],\n",
              "       [-1.05697411, -1.5030982 ],\n",
              "       [ 2.34432683,  2.96632898],\n",
              "       [-5.87164957, -2.95957303],\n",
              "       [-2.26183994,  2.84379533],\n",
              "       [ 4.20908394,  3.12530713],\n",
              "       [ 1.73883878, -0.3535477 ],\n",
              "       [-1.03897328, -4.62100595],\n",
              "       [-0.08154429, -1.78883906],\n",
              "       [-0.56425851, -4.38685264],\n",
              "       [ 4.80229758,  0.85615199],\n",
              "       [ 2.98960675, -1.26903737],\n",
              "       [ 1.05074285, -2.85371453],\n",
              "       [-2.39934249, -3.67416864],\n",
              "       [ 0.72532792,  0.20999713],\n",
              "       [ 0.98293769, -2.58545781],\n",
              "       [ 0.67591432, -0.36133603],\n",
              "       [ 2.05904738,  4.01956045],\n",
              "       [-6.85460015,  1.64321732],\n",
              "       [ 1.18747117,  1.20924158],\n",
              "       [ 2.70802905, -0.55559212],\n",
              "       [-2.77041833, -3.86018767],\n",
              "       [ 1.73174427, -1.52015462],\n",
              "       [ 1.19211915,  0.99610532],\n",
              "       [ 7.24421927, -1.51420972],\n",
              "       [ 0.27849716,  2.10840589],\n",
              "       [ 3.97138271, -0.41162135],\n",
              "       [ 5.61203804,  5.25379304],\n",
              "       [ 3.02193841,  1.48006599],\n",
              "       [-1.08944735,  0.17833437],\n",
              "       [-3.84341856, -0.40292096],\n",
              "       [-3.71646352,  3.01556982],\n",
              "       [ 2.66825731, -2.91984882],\n",
              "       [ 3.20708886, -2.90032997],\n",
              "       [-0.40383358, -3.02953144],\n",
              "       [ 3.66408675,  1.33871699],\n",
              "       [ 0.18820914, -0.12540986],\n",
              "       [-2.33990501, -0.79843819],\n",
              "       [-1.40283251, -0.09809702],\n",
              "       [-2.83402119,  8.82166978],\n",
              "       [ 1.88312156, -5.13383951],\n",
              "       [-4.08444655, -0.91416211],\n",
              "       [-2.6427131 ,  2.75563637],\n",
              "       [-3.60595954,  1.43916959],\n",
              "       [ 3.2712079 ,  2.66488424],\n",
              "       [-2.39850828, -1.88719937],\n",
              "       [-2.74076464, -2.67227977],\n",
              "       [-2.21761912, -2.18664918],\n",
              "       [-3.61983162,  2.93715509],\n",
              "       [-2.0268441 , -5.8999958 ],\n",
              "       [-2.09386821,  1.23825667],\n",
              "       [-3.51243832,  1.06015559],\n",
              "       [ 0.42398498,  2.68282792],\n",
              "       [ 3.21627539, -3.71522934],\n",
              "       [ 3.38818596,  3.1310409 ],\n",
              "       [-1.33866595,  2.04250332],\n",
              "       [-5.93160819, -3.30893018],\n",
              "       [-2.71745322, -2.42475826],\n",
              "       [-0.0847585 , -3.20629321],\n",
              "       [ 3.35812897, -1.91747398],\n",
              "       [-2.71051163, -0.2176816 ],\n",
              "       [-0.56520334,  1.02890882],\n",
              "       [ 0.87034549, -4.49865014],\n",
              "       [ 0.76487683,  0.86344862],\n",
              "       [ 1.20814356, -1.34148092],\n",
              "       [ 0.51189025,  0.30858835],\n",
              "       [-1.13004597,  1.78709638],\n",
              "       [ 0.91809124, -3.48313958],\n",
              "       [ 0.45735914,  0.67686517],\n",
              "       [ 0.81627249, -8.50101784],\n",
              "       [-2.18704456,  2.07166242],\n",
              "       [ 5.98879821,  0.16536539],\n",
              "       [ 3.30464541,  1.0741358 ],\n",
              "       [ 1.48522313,  0.92049051],\n",
              "       [ 0.22902647,  1.31937963],\n",
              "       [ 3.79186806, -0.91313197],\n",
              "       [ 0.62674224, -3.77823023],\n",
              "       [-3.44003926,  2.63248467],\n",
              "       [-2.60509651,  0.4708493 ],\n",
              "       [-0.8071297 ,  1.71530448],\n",
              "       [-3.48650293,  2.12381041],\n",
              "       [ 0.49557699, -1.02689673],\n",
              "       [ 1.30332886, -3.37809213],\n",
              "       [-4.34396926,  0.70284947],\n",
              "       [ 0.04695565,  0.98872139],\n",
              "       [-1.86391618,  6.24812774],\n",
              "       [ 1.48470773,  1.38648611],\n",
              "       [ 0.75308238,  0.40551229],\n",
              "       [ 2.10209253,  0.75296352],\n",
              "       [ 0.6559182 , -0.0750322 ]])"
            ]
          },
          "metadata": {
            "tags": []
          },
          "execution_count": 7
        }
      ]
    },
    {
      "cell_type": "code",
      "metadata": {
        "id": "tfYAFuXhvv62",
        "colab_type": "code",
        "outputId": "aec29771-cb0d-4342-b69d-ed5d3b8c462b",
        "colab": {
          "base_uri": "https://localhost:8080/",
          "height": 282
        }
      },
      "source": [
        "#en el eje x la 1era col, en \"y\" la 2da col\n",
        "\n",
        "#En esta parte se estan preparando los datos\n",
        "#se escogen 2 datos arbitrarios -3.3 y 3.3 \n",
        "# y centrar todos los puntos generados alrededor de ellos \n",
        "# con la intensión de que queden claramente separados \n",
        "#para que el clasificador le sea más facil predecir. \n",
        "plt.scatter(data[: ,0], data[ : ,1])"
      ],
      "execution_count": 0,
      "outputs": [
        {
          "output_type": "execute_result",
          "data": {
            "text/plain": [
              "<matplotlib.collections.PathCollection at 0x7f2ded19d390>"
            ]
          },
          "metadata": {
            "tags": []
          },
          "execution_count": 8
        },
        {
          "output_type": "display_data",
          "data": {
            "image/png": "[encoded data removed]",
            "text/plain": [
              "<Figure size 432x288 with 1 Axes>"
            ]
          },
          "metadata": {
            "tags": []
          }
        }
      ]
    },
    {
      "cell_type": "code",
      "metadata": {
        "id": "9LD9s0bjqOxp",
        "colab_type": "code",
        "colab": {}
      },
      "source": [
        "#la 1era mitad se agrupa hacia el -3\n",
        "data[:h, :] = data[:h, :] - 3*np.ones((h,dimen))"
      ],
      "execution_count": 0,
      "outputs": []
    },
    {
      "cell_type": "code",
      "metadata": {
        "id": "mMS_TqLpqjpE",
        "colab_type": "code",
        "colab": {}
      },
      "source": [
        "#la otra mitad se agrupa hacia el 3\n",
        "data[h:, :] = data[h:, :] + 3*np.ones((h,dimen))"
      ],
      "execution_count": 0,
      "outputs": []
    },
    {
      "cell_type": "code",
      "metadata": {
        "id": "ZmSjWt2rsA8L",
        "colab_type": "code",
        "outputId": "df482cc6-728e-4e45-f639-fc4d7b889d60",
        "colab": {
          "base_uri": "https://localhost:8080/",
          "height": 285
        }
      },
      "source": [
        "colors = ['blue', 'red']\n",
        "\n",
        "#s: size\n",
        "#alpha: transparency\n",
        "#se crear un array con la mitad en azul y la otra en rojo, tamaño n\n",
        "color = np.array([colors[0]]*h + [colors[1]]*h).reshape(n)\n",
        "plt.scatter(data[: ,0], data[ : ,1], c=color, s=75, alpha= 0.6)"
      ],
      "execution_count": 0,
      "outputs": [
        {
          "output_type": "execute_result",
          "data": {
            "text/plain": [
              "<matplotlib.collections.PathCollection at 0x7f2ded17ceb8>"
            ]
          },
          "metadata": {
            "tags": []
          },
          "execution_count": 11
        },
        {
          "output_type": "display_data",
          "data": {
            "image/png": "[encoded data removed]",
            "text/plain": [
              "<Figure size 432x288 with 1 Axes>"
            ]
          },
          "metadata": {
            "tags": []
          }
        }
      ]
    },
    {
      "cell_type": "code",
      "metadata": {
        "id": "h45_Y3wAuLcZ",
        "colab_type": "code",
        "outputId": "1c3c7888-1213-49c1-cd07-3c318a65fadf",
        "colab": {
          "base_uri": "https://localhost:8080/",
          "height": 34
        }
      },
      "source": [
        "#el target va hacer un array de 0 y 1's\n",
        "#la primera mitad representando los azules y la otra los rojos\n",
        "#esto se puede determinar de esta forma por la separación que se logró\n",
        "target = np.array([0]*h + [1]*h).reshape(n,1)\n",
        "\n",
        "#las entradas son pares\n",
        "x = torch.from_numpy(data).float().requires_grad_(True)\n",
        "\n",
        "y = torch.from_numpy(target).float()\n",
        "\n",
        "x.shape, y.shape"
      ],
      "execution_count": 0,
      "outputs": [
        {
          "output_type": "execute_result",
          "data": {
            "text/plain": [
              "(torch.Size([100, 2]), torch.Size([100, 1]))"
            ]
          },
          "metadata": {
            "tags": []
          },
          "execution_count": 12
        }
      ]
    },
    {
      "cell_type": "code",
      "metadata": {
        "id": "1aKGCQ-7yi_2",
        "colab_type": "code",
        "outputId": "1b7f5072-00cd-4aed-f502-b1b941b3fa0c",
        "colab": {
          "base_uri": "https://localhost:8080/",
          "height": 282
        }
      },
      "source": [
        "#sequential permite combinar multiples funciones\n",
        "#Linear(2,1) porque en la entrada tengo 1 par y la salida es un solo dato(probabilidad)\n",
        "#la función sigmoid nos permite clasificar\n",
        "model = nn.Sequential(\n",
        "    nn.Linear(2,1),\n",
        "    nn.Sigmoid()\n",
        ")\n",
        "\n",
        "#Binary cross entropy or Log Loss\n",
        "loss_function = nn.BCELoss()\n",
        "\n",
        "#los pesos vienen de los parametros del modelo\n",
        "optimizer = optim.SGD(model.parameters(), lr=0.01)\n",
        "\n",
        "losses = []\n",
        "\n",
        "iterations = 1000\n",
        "\n",
        "for i in range(iterations):\n",
        "  result = model(x)\n",
        "  loss = loss_function(result, y)\n",
        "  losses.append(loss.data)\n",
        "\n",
        "  optimizer.zero_grad()\n",
        "  loss.backward()\n",
        "\n",
        "  optimizer.step()\n",
        "\n",
        "plt.plot(range(iterations), losses)\n",
        "loss\n",
        " "
      ],
      "execution_count": 0,
      "outputs": [
        {
          "output_type": "execute_result",
          "data": {
            "text/plain": [
              "tensor(0.1988, grad_fn=<BinaryCrossEntropyBackward>)"
            ]
          },
          "metadata": {
            "tags": []
          },
          "execution_count": 13
        },
        {
          "output_type": "display_data",
          "data": {
            "image/png": "[encoded data removed]",
            "text/plain": [
              "<Figure size 432x288 with 1 Axes>"
            ]
          },
          "metadata": {
            "tags": []
          }
        }
      ]
    },
    {
      "cell_type": "code",
      "metadata": {
        "id": "UC5Kt88p3mnx",
        "colab_type": "code",
        "outputId": "0f02c284-721b-48e0-9898-ce38114ffd57",
        "colab": {
          "base_uri": "https://localhost:8080/",
          "height": 51
        }
      },
      "source": [
        "#validar que el modelo este prediciendo bien\n",
        "\n",
        "blue = torch.Tensor([[-5, -6]])\n",
        "predictionaux = model(blue)\n",
        "#predictions arroja una probabilidad\n",
        "#si esta probabilidad es menor a 0.5 significa que es azul, si > 0.5 es rojo\n",
        "#print(predictionaux)\n",
        "#print(model(blue).data[0][0])\n",
        "#print(data[0][0])\n",
        "#aun no se comprende para que se utiliza el data[0][0] dado que usando solo model(blue) nos arroja el mismo resultado \n",
        "prediction = model(blue).data[0][0] > 0.5\n",
        "#como se establece que si es falso es azul y si es true es rojo? si colors solo es un array \n",
        "print(colors[prediction])\n",
        "\n",
        "red = torch.Tensor([[8, 6]])\n",
        "prediction = model(red).data[0][0] > 0.5\n",
        "print(colors[prediction])\n"
      ],
      "execution_count": 0,
      "outputs": [
        {
          "output_type": "stream",
          "text": [
            "blue\n",
            "red\n"
          ],
          "name": "stdout"
        }
      ]
    },
    {
      "cell_type": "code",
      "metadata": {
        "id": "v-SBtY0C5Sut",
        "colab_type": "code",
        "outputId": "cdb3e3dd-5c84-43b9-9732-d61e995c8031",
        "colab": {
          "base_uri": "https://localhost:8080/",
          "height": 282
        }
      },
      "source": [
        "#miremos como el modelo hace la separación\n",
        "#se optinen los pesos y se separan 2 porque las entradas son de dimensión 2\n",
        "w = list(model.parameters())\n",
        "w0 = w[0].data.numpy()\n",
        "w1 = w[1].data.numpy()\n",
        "\n",
        "plt.scatter(data[:,0], data[:,1], c = color, s=75, alpha= 0.6)\n",
        "\n",
        "#se dibuja la linea que separa las 2 clasificaciones \n",
        "#-10 y 10 es el rango, linspace permite distribuir uniformemente n datos en el rango dado\n",
        "x_axis = np.linspace(-10, 10, n)\n",
        "#no se explicó bien el eje y, solo que es en base a los pesos que nos ofrese el sigmoide\n",
        "#print(w1[0])\n",
        "#print(x_axis*w0[0][0])\n",
        "#print(w0[0][1])\n",
        "y_axis = -(w1[0] + x_axis*w0[0][0]) / w0[0][1]\n",
        "plt.plot(x_axis, y_axis, 'g--')"
      ],
      "execution_count": 0,
      "outputs": [
        {
          "output_type": "execute_result",
          "data": {
            "text/plain": [
              "[<matplotlib.lines.Line2D at 0x7f2ded142048>]"
            ]
          },
          "metadata": {
            "tags": []
          },
          "execution_count": 15
        },
        {
          "output_type": "display_data",
          "data": {
            "image/png": "[encoded data removed]",
            "text/plain": [
              "<Figure size 432x288 with 1 Axes>"
            ]
          },
          "metadata": {
            "tags": []
          }
        }
      ]
    }
  ]
}